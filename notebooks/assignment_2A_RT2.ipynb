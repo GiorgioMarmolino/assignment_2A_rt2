{
 "cells": [
  {
   "cell_type": "markdown",
   "metadata": {},
   "source": [
    "# ASSIGNMENT_2_1_RT - INTERACTIVE CLIENT NODE"
   ]
  },
  {
   "cell_type": "markdown",
   "metadata": {},
   "source": [
    "### Import and ROS initialization\n",
    "\n",
    "This section sets up the core components required for integrating ROS with the Jupyter environment. It imports necessary libraries, initializes global variables, and prepares the system for robot control, real-time data handling, and interaction through widgets and plots. This foundational setup enables communication with ROS topics, services, and actions, and is essential for the rest of the notebook to function correctly."
   ]
  },
  {
   "cell_type": "code",
   "execution_count": null,
   "metadata": {},
   "outputs": [],
   "source": [
    "import rospy\n",
    "import time\n",
    "import actionlib\n",
    "import sys\n",
    "import math\n",
    "from sensor_msgs.msg import LaserScan\n",
    "from nav_msgs.msg import Odometry\n",
    "from geometry_msgs.msg import Pose, Twist, PoseStamped\n",
    "from actionlib_msgs.msg import GoalStatus\n",
    "\n",
    "from assignment2_1_rt.msg import PosVel, PlanningAction, PlanningGoal\n",
    "\n",
    "import ipywidgets as widgets\n",
    "from IPython.display import display, clear_output\n",
    "from ipywidgets import HBox, VBox\n",
    "\n",
    "import numpy as np\n",
    "import matplotlib.pyplot as plt\n",
    "from matplotlib.animation import FuncAnimation as FAnim\n",
    "\n",
    "#______________________REQUIRED GLOBAL VARIABLES______________________\n",
    "#Standard required global variables\n",
    "OdPose = Pose()\n",
    "OdTwist = Twist()\n",
    "client = None\n",
    "pub_PsVl = None\n",
    "\n",
    "min_obstacle_distance = widgets.FloatText(value=0.0, description='closest obstacle [m]:', disabled=True)\n",
    "\n",
    "#Output plot global variables\n",
    "goal_output = widgets.Output()\n",
    "output_ClientServer = widgets.Output()"
   ]
  },
  {
   "cell_type": "markdown",
   "metadata": {},
   "source": [
    "### Odom callback and publisher\n",
    "\n",
    "This section defines the callback functions for handling odometry data and periodically publishing the robot's position and velocity. It ensures the system stays updated with the robot's current state and makes this information available to other ROS components through a custom message. Scan callback is defined in order to provide the distance from the closest obstacle, based on "
   ]
  },
  {
   "cell_type": "code",
   "execution_count": null,
   "metadata": {},
   "outputs": [],
   "source": [
    "def odom_callback(msg):\n",
    "    global OdPose, OdTwist\n",
    "    OdPose = msg.pose.pose\n",
    "    OdTwist = msg.twist.twist\n",
    "\n",
    "def pos_callback(event=None):\n",
    "    global OdPose, OdTwist, pub_PsVl\n",
    "    if pub_PsVl:\n",
    "        msg = PosVel()\n",
    "        msg.pos_x = OdPose.position.x\n",
    "        msg.pos_y = OdPose.position.y\n",
    "        msg.vel_x = OdTwist.linear.x\n",
    "        msg.vel_z = OdTwist.angular.z\n",
    "        pub_PsVl.publish(msg)\n",
    "        \n",
    "def scan_callback(msg):\n",
    "    global min_obstacle_distance\n",
    "    \n",
    "    valid_ranges = [r for r in msg.ranges if r > 0.01 and not rospy.is_shutdown() and not (math.isinf(r))]\n",
    "    if valid_ranges:\n",
    "        min_obstacle_distance.value = min(valid_ranges)\n",
    "    else:\n",
    "        min_obstacle_distance.value = None"
   ]
  },
  {
   "cell_type": "markdown",
   "metadata": {},
   "source": [
    "### Send and cancel goal functions for goal management\n",
    "\n",
    "This section defines the functions to send and cancel navigation goals via the action client. When a new goal is sent, the target position is taken from the input widgets and transmitted to the planner. If a goal is active, it can also be canceled, providing interactive control over the robot’s behavior directly from the notebook interface."
   ]
  },
  {
   "cell_type": "code",
   "execution_count": null,
   "metadata": {},
   "outputs": [],
   "source": [
    "def feedback_clbk(feedback):\n",
    "    global reached_count\n",
    "    with goal_output:\n",
    "        if (feedback.stat == \"Target reached!\"):\n",
    "            reached_count += 1\n",
    "            clear_output(wait=True)\n",
    "            print(\"Target reached\\n{}\\nStatus: {}\\n\".format(feedback.actual_pose, feedback.stat))\n",
    "\n",
    "def send_goal(_):\n",
    "    global client\n",
    "    with goal_output:\n",
    "        clear_output(wait=True)\n",
    "        if not client.get_state() in [GoalStatus.ACTIVE, GoalStatus.PENDING]:\n",
    "\n",
    "            target = PoseStamped()\n",
    "            target.pose.position.x = x_input.value\n",
    "            target.pose.position.y = y_input.value\n",
    "\n",
    "            goal = PlanningGoal()\n",
    "            goal.target_pose = target\n",
    "\n",
    "            client.send_goal(goal, feedback_cb = feedback_clbk)\n",
    "            print(f\"Sent goal: ({target.pose.position.x}, {target.pose.position.y})\")\n",
    "        else:\n",
    "            print(\"Goal already sent\")\n",
    "            \n",
    "def cancel_goal(_):\n",
    "    global client, failed_count\n",
    "    with goal_output:\n",
    "        clear_output(wait=True)\n",
    "        if client.get_state() in [GoalStatus.ACTIVE, GoalStatus.PENDING]:\n",
    "            client.cancel_goal()\n",
    "            rospy.sleep(1)\n",
    "            state = client.get_state()\n",
    "            if state in [GoalStatus.PREEMPTED, GoalStatus.RECALLED]:\n",
    "                print('Goal canceled')\n",
    "                failed_count += 1\n",
    "            else:\n",
    "                print(\"Can't clear current goal\")\n",
    "        else:\n",
    "            print(\"No active goal\")"
   ]
  },
  {
   "cell_type": "markdown",
   "metadata": {},
   "source": [
    "### ROS node initialization function\n",
    "\n",
    "This section initializes the ROS node and sets up communication with the rest of the ROS ecosystem. It subscribes to odometry data, advertises a publisher for custom position and velocity messages, and connects to the action server used for goal planning. A timer is also started to periodically publish the robot’s state."
   ]
  },
  {
   "cell_type": "code",
   "execution_count": null,
   "metadata": {},
   "outputs": [],
   "source": [
    "def init_ros_node():\n",
    "    global client, pub_PsVl\n",
    "    rospy.init_node('interactive_action_client')\n",
    "    \n",
    "    pub_PsVl = rospy.Publisher(\"/posVel\", PosVel, queue_size=10)\n",
    "    \n",
    "    with output_ClientServer:\n",
    "        rospy.loginfo(\"---Checking '\\odom' topic---\")\n",
    "    rospy.wait_for_message('/odom', Odometry)\n",
    "    rospy.Subscriber(\"/odom\", Odometry, odom_callback)\n",
    "    \n",
    "    with output_ClientServer:\n",
    "        rospy.loginfo(\"---Checking '\\scan' topic---\")\n",
    "        rospy.wait_for_message(\"/scan\", LaserScan)\n",
    "    rospy.Subscriber(\"/scan\", LaserScan, scan_callback)\n",
    "    \n",
    "    client = actionlib.SimpleActionClient('/reaching_goal', PlanningAction)\n",
    "    with output_ClientServer:\n",
    "        rospy.loginfo(\"---Waiting for action server---\")\n",
    "        \n",
    "    client.wait_for_server()\n",
    "    with output_ClientServer:\n",
    "        rospy.loginfo(\"---Action server connected---\")\n",
    "        rospy.loginfo(\"---SYSTEM READY---\")\n",
    "    rospy.Timer(rospy.Duration(0.5), pos_callback)\n",
    "\n",
    "        \n",
    "try:\n",
    "    init_ros_node()\n",
    "except rospy.ROSInterruptException:\n",
    "    print(\"ROS Interrupt Exception detected\")"
   ]
  },
  {
   "cell_type": "code",
   "execution_count": null,
   "metadata": {},
   "outputs": [],
   "source": [
    "display(output_ClientServer)"
   ]
  },
  {
   "cell_type": "markdown",
   "metadata": {},
   "source": [
    "### Interactive widgets for control purposes\n",
    "\n",
    "This section creates interactive input fields and buttons using `ipywidgets` to allow the user to send or cancel navigation goals. The X and Y fields define the target position, while the \"Send Goal\" and \"Cancel Goal\" buttons trigger the corresponding ROS actions. Output feedback is displayed below the controls."
   ]
  },
  {
   "cell_type": "code",
   "execution_count": null,
   "metadata": {},
   "outputs": [],
   "source": [
    "x_input = widgets.FloatText(value=0.0, description='X:', step=0.1)\n",
    "y_input = widgets.FloatText(value=0.0, description='Y:', step=0.1)\n",
    "\n",
    "send_button = widgets.Button(description='Send Goal', button_style='success')\n",
    "cancel_button = widgets.Button(description='Canceal Goal', button_style='danger')\n",
    "\n",
    "display(widgets.HBox([x_input, y_input]))\n",
    "display(widgets.HBox([send_button, cancel_button]))\n",
    "\n",
    "send_button.on_click(send_goal)\n",
    "cancel_button.on_click(cancel_goal)"
   ]
  },
  {
   "cell_type": "code",
   "execution_count": null,
   "metadata": {},
   "outputs": [],
   "source": [
    "display(goal_output)"
   ]
  },
  {
   "cell_type": "markdown",
   "metadata": {},
   "source": [
    "### Position live check\n",
    "\n",
    "This section creates an interactive plot to visualize the robot's position and its movement trajectory over time. The robot's position is updated in real-time, while the trajectory can be optionally enabled or disabled through a dropdown menu. Additionally, the \"Reset\" button allows for clearing the trace. The plot dynamically updates based on the robot's odometry data, providing an interactive visualization of the robot's movement. Key features:\n",
    "- **Trace Control**: The dropdown menu allows switching between keeping the trace of the robot's movement or disabling it.\n",
    "- **Reset Trace**: The \"Reset\" button clears the current trajectory trace on the plot.\n",
    "- **Real-time Updates**: The robot's current position is updated every 0.5 seconds and plotted on the graph."
   ]
  },
  {
   "cell_type": "code",
   "execution_count": null,
   "metadata": {},
   "outputs": [],
   "source": [
    "%matplotlib notebook\n",
    "fig, ax = plt.subplots()\n",
    "robot_pos, = ax.plot([], [], 'ro', label='Robot')\n",
    "trace_line, = ax.plot([], [], 'b-', alpha=0.5, label='Trace')\n",
    "\n",
    "ax.set_xlim(-12, 12)\n",
    "ax.set_ylim(-12, 12)\n",
    "ax.grid(True)\n",
    "ax.legend()\n",
    "ax.set_xlabel(\"X\")\n",
    "ax.set_ylabel(\"Y\")\n",
    "\n",
    "# Global variables used for the trace\n",
    "trace_enabled = True\n",
    "trace_visible = True\n",
    "trace_x = []\n",
    "trace_y = []\n",
    "\n",
    "def on_trace_mode_change(change): # Dropdown menu definition\n",
    "    global trace_enabled, trace_visible\n",
    "    mode = change['new']\n",
    "    if mode == 'Keep trace':\n",
    "        trace_enabled = True\n",
    "        trace_visible = True\n",
    "    elif mode == 'Disable trace':\n",
    "        trace_enabled = False\n",
    "        trace_visible = False\n",
    "        trace_line.set_data([], [])\n",
    "        \n",
    "def reset_trace(_): # Reset button function to clean the trace\n",
    "    global trace_x, trace_y\n",
    "    trace_x.clear()\n",
    "    trace_y.clear()\n",
    "    trace_line.set_data([], [])\n",
    "\n",
    "def init_function():\n",
    "    trace_line.set_data([],[])\n",
    "    robot_pos.set_data([],[])\n",
    "    return (trace_line, robot_pos)\n",
    "\n",
    "def update_trace(frame):\n",
    "    global trace_enabled, trace_visible, trace_x, trace_y, ax, robot_pos\n",
    "    \n",
    "    x = OdPose.position.x\n",
    "    y = OdPose.position.y\n",
    "    robot_pos.set_data(x, y) #to plot position\n",
    "    \n",
    "    ax.set_title(f\"Robot Position: x={x:.2f}, y={y:.2f}\") #to display current position\n",
    "    \n",
    "    if trace_enabled:\n",
    "            trace_x.append(x)\n",
    "            trace_y.append(y)\n",
    "    if trace_visible:\n",
    "        trace_line.set_data(trace_x, trace_y) #to plot trace\n",
    "    \n",
    "    ax.relim()\n",
    "    ax.autoscale_view()\n",
    "    return (trace_line, robot_pos)\n",
    "\n",
    "trace_mode_dropdown = widgets.Dropdown( # Dropdown menu init\n",
    "    options=['Keep trace','Disable trace'],\n",
    "    value='Keep trace',\n",
    "    description='Trace:'\n",
    ")\n",
    "\n",
    "reset_button = widgets.Button(description='Reset', button_style='info') #trace-reset button init\n",
    "\n",
    "trace_mode_dropdown.observe(on_trace_mode_change, names='value') # Connect callbacks\n",
    "reset_button.on_click(reset_trace)\n",
    "\n",
    "display(widgets.HBox([trace_mode_dropdown, reset_button])) # Display widgets in a clear HBox\n",
    "\n",
    "RobPosAnim = FAnim(fig, update_trace, init_func=init_function, interval=500, blit=True)"
   ]
  },
  {
   "cell_type": "markdown",
   "metadata": {},
   "source": [
    "### Reached/not-reached targets count"
   ]
  },
  {
   "cell_type": "code",
   "execution_count": null,
   "metadata": {},
   "outputs": [],
   "source": [
    "#Variables for reached/non-reached targets\n",
    "reached_count, failed_count = 0, 0\n",
    "\n",
    "fig_bars, ax_bars = plt.subplots()\n",
    "bars = ax_bars.bar(['Reached', 'Not reached'], [0, 0], color=['blue', 'red'])\n",
    "ax_bars.set_title(\"Goal outcomes\")\n",
    "ax_bars.set_ylim(0, max(5, reached_count + reached_count + 1))\n",
    "\n",
    "def update_bars(frame):\n",
    "    bars[0].set_height(reached_count)\n",
    "    bars[1].set_height(failed_count)\n",
    "    tot = reached_count + failed_count\n",
    "    ax_bars.set_ylim(0, max(5, tot + 1))\n",
    "    return bars\n",
    "\n",
    "count_bars_plot = FAnim(fig_bars, update_bars, interval=500, blit=True)"
   ]
  },
  {
   "cell_type": "markdown",
   "metadata": {},
   "source": [
    "### Laser scan - check distance\n",
    "\n",
    "This cell sets up a live display showing the distance from the robot to the closest obstacle detected by its laser scanner. A label widget is used to present this distance in real time. The program subscribes to the */scan* topic, which provides LaserScan messages containing an array of range values. Each time a message is received, the callback function filters out invalid readings (such as zero, infinity, or NaN) and determines the closest valid distance by taking the minimum. A separate thread continuously updates the label on the notebook interface every half second, displaying the most recent distance to the nearest obstacle. If no valid distance is available, the label shows a placeholder value. This allows users to visually monitor how close the robot is to surrounding objects during operation."
   ]
  },
  {
   "cell_type": "code",
   "execution_count": null,
   "metadata": {},
   "outputs": [],
   "source": [
    "display(min_obstacle_distance)"
   ]
  }
 ],
 "metadata": {
  "kernelspec": {
   "display_name": "ROS (Python 3)",
   "language": "python",
   "name": "ros_py3"
  },
  "language_info": {
   "codemirror_mode": {
    "name": "ipython",
    "version": 3
   },
   "file_extension": ".py",
   "mimetype": "text/x-python",
   "name": "python",
   "nbconvert_exporter": "python",
   "pygments_lexer": "ipython3",
   "version": "3.8.10"
  }
 },
 "nbformat": 4,
 "nbformat_minor": 2
}
