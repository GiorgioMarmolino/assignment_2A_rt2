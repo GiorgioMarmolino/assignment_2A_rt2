{
 "cells": [
  {
   "cell_type": "markdown",
   "metadata": {},
   "source": [
    "# PROJECT "
   ]
  },
  {
   "cell_type": "markdown",
   "metadata": {},
   "source": [
    "### Import and ROS initialization\n",
    "\n",
    "This section sets up the core components required for integrating ROS with the Jupyter environment. It imports necessary libraries, initializes global variables, and prepares the system for robot control, real-time data handling, and interaction through widgets and plots. This foundational setup enables communication with ROS topics, services, and actions, and is essential for the rest of the notebook to function correctly."
   ]
  },
  {
   "cell_type": "code",
   "execution_count": null,
   "metadata": {},
   "outputs": [],
   "source": [
    "import rospy\n",
    "import threading\n",
    "import time\n",
    "import actionlib\n",
    "import sys\n",
    "\n",
    "from nav_msgs.msg import Odometry\n",
    "from geometry_msgs.msg import Pose, Twist, PoseStamped\n",
    "from actionlib_msgs.msg import GoalStatus\n",
    "\n",
    "from assignment2_1_rt.msg import PosVel, PlanningAction, PlanningGoal\n",
    "\n",
    "import ipywidgets as widgets\n",
    "from IPython.display import display, clear_output\n",
    "import matplotlib.pyplot as plt\n",
    "\n",
    "# required global variables\n",
    "OdPose = Pose()\n",
    "OdTwist = Twist()\n",
    "client = None\n",
    "goal_handle = None\n",
    "goal_active = False\n",
    "pub_PsVl = None"
   ]
  },
  {
   "cell_type": "markdown",
   "metadata": {},
   "source": [
    "### Odom callback and publisher\n",
    "\n",
    "This section defines the callback functions for handling odometry data and periodically publishing the robot's position and velocity. It ensures the system stays updated with the robot's current state and makes this information available to other ROS components through a custom message."
   ]
  },
  {
   "cell_type": "code",
   "execution_count": null,
   "metadata": {},
   "outputs": [],
   "source": [
    "def odom_callback(msg):\n",
    "    global OdPose, OdTwist\n",
    "    OdPose = msg.pose.pose\n",
    "    OdTwist = msg.twist.twist\n",
    "\n",
    "def pos_callback(event=None):\n",
    "    global OdPose, OdTwist, pub_PsVl\n",
    "    if pub_PsVl:\n",
    "        msg = PosVel()\n",
    "        msg.pos_x = OdPose.position.x\n",
    "        msg.pos_y = OdPose.position.y\n",
    "        msg.vel_x = OdTwist.linear.x\n",
    "        msg.vel_z = OdTwist.angular.z\n",
    "        pub_PsVl.publish(msg)"
   ]
  },
  {
   "cell_type": "markdown",
   "metadata": {},
   "source": [
    "### Send and cancel goal functions for goal management\n",
    "\n",
    "This section defines the functions to send and cancel navigation goals via the action client. When a new goal is sent, the target position is taken from the input widgets and transmitted to the planner. If a goal is active, it can also be canceled, providing interactive control over the robot’s behavior directly from the notebook interface."
   ]
  },
  {
   "cell_type": "code",
   "execution_count": null,
   "metadata": {},
   "outputs": [],
   "source": [
    "def send_goal(_):\n",
    "    global client, goal_active\n",
    "    if not goal_active:\n",
    "        x = x_input.value\n",
    "        y = y_input.value\n",
    "\n",
    "        target = PoseStamped()\n",
    "        target.pose.position.x = x\n",
    "        target.pose.position.y = y\n",
    "\n",
    "        goal = PlanningGoal()\n",
    "        goal.target_pose = target\n",
    "\n",
    "        client.send_goal(goal, done_cb=done_cb)\n",
    "        goal_active = True\n",
    "        with goal_output:\n",
    "            clear_output()\n",
    "            print(f\"Sent goal: ({x}, {y})\")\n",
    "\n",
    "def cancel_goal(_):\n",
    "    global client, goal_active\n",
    "    if goal_active:\n",
    "        client.cancel_goal()\n",
    "        goal_active = False\n",
    "        with goal_output:\n",
    "            clear_output()\n",
    "            print(\"Goal canceled.\")\n",
    "            \n",
    "def done_cb(status, result):\n",
    "    global goal_active\n",
    "    goal_active = False\n",
    "\n",
    "    #with goal_output:\n",
    "     #   clear_output()\n",
    "      #  if status == GoalStatus.SUCCEEDED:\n",
    "       #     print(f\"[RESULT] - Goal reached! Final position: ({result.final_x:.2f}, {result.final_y:.2f})\")\n",
    "        #else:\n",
    "         #   print(f\"[RESULT] - Goal failed with status: {status}\")\n"
   ]
  },
  {
   "cell_type": "markdown",
   "metadata": {},
   "source": [
    "### Ros Node initialization function\n",
    "\n",
    "This section initializes the ROS node and sets up communication with the rest of the ROS ecosystem. It subscribes to odometry data, advertises a publisher for custom position and velocity messages, and connects to the action server used for goal planning. A timer is also started to periodically publish the robot’s state."
   ]
  },
  {
   "cell_type": "code",
   "execution_count": null,
   "metadata": {},
   "outputs": [],
   "source": [
    "def init_ros_node():\n",
    "    global client, pub_PsVl\n",
    "    rospy.init_node('interactive_action_client')\n",
    "    rospy.Subscriber(\"/odom\", Odometry, odom_callback)\n",
    "    pub_PsVl = rospy.Publisher(\"/posVel\", PosVel, queue_size=10)\n",
    "    \n",
    "    client = actionlib.SimpleActionClient('/reaching_goal', PlanningAction)\n",
    "    rospy.loginfo(\"Waiting for action server...\")\n",
    "    client.wait_for_server()\n",
    "    rospy.loginfo(\"Action server connected.\")\n",
    "\n",
    "    rospy.Timer(rospy.Duration(0.5), pos_callback)\n",
    "\n",
    "init_ros_node()"
   ]
  },
  {
   "cell_type": "markdown",
   "metadata": {},
   "source": [
    "### Interactive widgets for control purposes\n",
    "\n",
    "This section creates interactive input fields and buttons using `ipywidgets` to allow the user to send or cancel navigation goals. The X and Y fields define the target position, while the \"Send Goal\" and \"Cancel Goal\" buttons trigger the corresponding ROS actions. Output feedback is displayed below the controls."
   ]
  },
  {
   "cell_type": "code",
   "execution_count": null,
   "metadata": {},
   "outputs": [],
   "source": [
    "x_input = widgets.FloatText(value=0.0, description='X:', step=0.1)\n",
    "y_input = widgets.FloatText(value=0.0, description='Y:', step=0.1)\n",
    "\n",
    "send_button = widgets.Button(description='Send Goal', button_style='success')\n",
    "cancel_button = widgets.Button(description='Canceal Goal', button_style='danger')\n",
    "\n",
    "goal_output = widgets.Output()\n",
    "\n",
    "display(widgets.HBox([x_input, y_input]))\n",
    "display(widgets.HBox([send_button, cancel_button]))\n",
    "display(goal_output)"
   ]
  },
  {
   "cell_type": "markdown",
   "metadata": {},
   "source": [
    "Eventually send/cancel goal"
   ]
  },
  {
   "cell_type": "code",
   "execution_count": null,
   "metadata": {},
   "outputs": [],
   "source": [
    "send_button.on_click(send_goal)\n",
    "cancel_button.on_click(cancel_goal)"
   ]
  },
  {
   "cell_type": "markdown",
   "metadata": {},
   "source": [
    "### Position live check\n",
    "\n",
    "This section creates an interactive plot to visualize the robot's position and its movement trajectory over time. The robot's position is updated in real-time, while the trajectory can be optionally enabled or disabled through a dropdown menu. Additionally, the \"Reset\" button allows for clearing the trace. The plot dynamically updates based on the robot's odometry data, providing an interactive visualization of the robot's movement. Key features:\n",
    "- **Trace Control**: The dropdown menu allows switching between keeping the trace of the robot's movement or disabling it.\n",
    "- **Reset Trace**: The \"Reset\" button clears the current trajectory trace on the plot.\n",
    "- **Real-time Updates**: The robot's current position is updated every 0.5 seconds and plotted on the graph."
   ]
  },
  {
   "cell_type": "code",
   "execution_count": null,
   "metadata": {},
   "outputs": [],
   "source": [
    "%matplotlib notebook\n",
    "fig, ax = plt.subplots()\n",
    "robot_pos, = ax.plot([], [], 'ro', label='Robot')\n",
    "trace_line, = ax.plot([], [], 'b-', alpha=0.5, label='Trace')\n",
    "\n",
    "ax.set_xlim(-10, 10)\n",
    "ax.set_ylim(-10, 10)\n",
    "ax.grid(True)\n",
    "ax.legend()\n",
    "\n",
    "# Global variables used for the trace\n",
    "trace_enabled = True\n",
    "trace_visible = True\n",
    "trace_x = []\n",
    "trace_y = []\n",
    "\n",
    "# Dropdown menu\n",
    "trace_mode_dropdown = widgets.Dropdown(\n",
    "    options=['Keep trace','Disable trace'],\n",
    "    value='Keep trace',\n",
    "    description='Trace:'\n",
    ")\n",
    "\n",
    "# Trace-reset button\n",
    "reset_button = widgets.Button(description='Reset', button_style='info')\n",
    "\n",
    "# Dropdown menu logic\n",
    "def on_trace_mode_change(change):\n",
    "    global trace_enabled, trace_visible\n",
    "    mode = change['new']\n",
    "    if mode == 'Keep trace':\n",
    "        trace_enabled = True\n",
    "        trace_visible = True\n",
    "    elif mode == 'Disable trace':\n",
    "        trace_enabled = False\n",
    "        trace_visible = False\n",
    "        trace_line.set_data([], [])\n",
    "        fig.canvas.draw_idle()\n",
    "\n",
    "# Reset button logic\n",
    "def reset_trace(_):\n",
    "    global trace_x, trace_y\n",
    "    trace_x.clear()\n",
    "    trace_y.clear()\n",
    "    trace_line.set_data([], [])\n",
    "    clear_output()\n",
    "    fig.canvas.draw_idle()\n",
    "\n",
    "# Connect callbacks\n",
    "trace_mode_dropdown.observe(on_trace_mode_change, names='value')\n",
    "reset_button.on_click(reset_trace)\n",
    "\n",
    "# Display widgets\n",
    "display(widgets.HBox([trace_mode_dropdown, reset_button]))\n",
    "\n",
    "# Real-time plot updater\n",
    "def update_plot():\n",
    "    while not rospy.is_shutdown():\n",
    "        x = OdPose.position.x\n",
    "        y = OdPose.position.y\n",
    "        robot_pos.set_data(x, y)\n",
    "        ax.set_title(f\"Robot Position: x={x:.2f}, y={y:.2f}\")\n",
    "\n",
    "        if trace_enabled:\n",
    "            trace_x.append(x)\n",
    "            trace_y.append(y)\n",
    "        if trace_visible:\n",
    "            trace_line.set_data(trace_x, trace_y)\n",
    "\n",
    "        fig.canvas.draw_idle()\n",
    "        time.sleep(0.5)\n",
    "\n",
    "# Start update thread\n",
    "threading.Thread(target=update_plot, daemon=True).start()\n"
   ]
  },
  {
   "cell_type": "markdown",
   "metadata": {},
   "source": [
    "### Cleaning\n",
    "\n",
    "Disabled: useless when using the 'run all option'."
   ]
  },
  {
   "cell_type": "code",
   "execution_count": null,
   "metadata": {},
   "outputs": [],
   "source": [
    "#def shutdown_ros(): # Node shutdown\n",
    " #   rospy.signal_shutdown(\"Interruzione notebook\")"
   ]
  }
 ],
 "metadata": {
  "kernelspec": {
   "display_name": "ROS (Python 3)",
   "language": "python",
   "name": "ros_py3"
  },
  "language_info": {
   "codemirror_mode": {
    "name": "ipython",
    "version": 3
   },
   "file_extension": ".py",
   "mimetype": "text/x-python",
   "name": "python",
   "nbconvert_exporter": "python",
   "pygments_lexer": "ipython3",
   "version": "3.8.10"
  }
 },
 "nbformat": 4,
 "nbformat_minor": 2
}
